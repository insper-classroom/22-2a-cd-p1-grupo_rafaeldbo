{
 "cells": [
  {
   "cell_type": "markdown",
   "metadata": {},
   "source": [
    "# Projeto 1 - Ciência dos Dados"
   ]
  },
  {
   "cell_type": "markdown",
   "metadata": {},
   "source": [
    "Nome: Alex Souza Pacchioni\n",
    "\n",
    "Nome: Rafael Dourado Bastos de Oliveira"
   ]
  },
  {
   "cell_type": "markdown",
   "metadata": {},
   "source": [
    "Atenção: Serão permitidos grupos de três pessoas, mas com uma rubrica mais exigente. Grupos deste tamanho precisarão fazer um questionário de avaliação de trabalho em equipe"
   ]
  },
  {
   "cell_type": "markdown",
   "metadata": {},
   "source": [
    "___\n",
    "Carregando algumas bibliotecas:"
   ]
  },
  {
   "cell_type": "code",
   "execution_count": 307,
   "metadata": {},
   "outputs": [
    {
     "name": "stderr",
     "output_type": "stream",
     "text": [
      "[nltk_data] Downloading package stopwords to C:\\Users\\Rafael\n",
      "[nltk_data]     Dourado\\AppData\\Roaming\\nltk_data...\n",
      "[nltk_data]   Package stopwords is already up-to-date!\n"
     ]
    },
    {
     "data": {
      "text/plain": [
       "True"
      ]
     },
     "execution_count": 307,
     "metadata": {},
     "output_type": "execute_result"
    }
   ],
   "source": [
    "%matplotlib inline\n",
    "import pandas as pd\n",
    "import numpy as np\n",
    "import os\n",
    "\n",
    "import matplotlib.pyplot as plt\n",
    "import seaborn as sn\n",
    "from IPython.display import display\n",
    "\n",
    "import nltk\n",
    "nltk.download('stopwords')"
   ]
  },
  {
   "cell_type": "code",
   "execution_count": 308,
   "metadata": {
    "scrolled": false
   },
   "outputs": [
    {
     "name": "stdout",
     "output_type": "stream",
     "text": [
      "Esperamos trabalhar no diretório\n",
      "c:\\Users\\Rafael Dourado\\Desktop\\Programação\\Insper\\cdados\\22-2a-cd-p1-grupo_rafaeldbo\\notebooks\n"
     ]
    }
   ],
   "source": [
    "print('Esperamos trabalhar no diretório')\n",
    "print(os.getcwd())"
   ]
  },
  {
   "cell_type": "markdown",
   "metadata": {},
   "source": [
    "Carregando a base de dados com as notícias classificadas manualmente:"
   ]
  },
  {
   "cell_type": "code",
   "execution_count": 309,
   "metadata": {},
   "outputs": [],
   "source": [
    "path = '../data/'\n",
    "filename = 'dados.xlsx'"
   ]
  },
  {
   "cell_type": "code",
   "execution_count": 310,
   "metadata": {},
   "outputs": [],
   "source": [
    "train = pd.read_excel(path+filename, sheet_name = 'Treinamento')\n",
    "test = pd.read_excel(path+filename, sheet_name = 'Teste')"
   ]
  },
  {
   "cell_type": "markdown",
   "metadata": {},
   "source": [
    "___\n",
    "## Classificador automático\n"
   ]
  },
  {
   "cell_type": "markdown",
   "metadata": {},
   "source": [
    "Faça aqui uma descrição do seu assunto e o que considerou como relevante ou não relevante na classificação das notícias (Target).\n",
    "\n",
    "ESCREVA AQUI..."
   ]
  },
  {
   "cell_type": "markdown",
   "metadata": {},
   "source": [
    "___\n",
    "### Montando um Classificador Naive-Bayes\n",
    "\n",
    "Considerando apenas as mensagens da planilha Treinamento, ensine  seu classificador."
   ]
  },
  {
   "cell_type": "code",
   "execution_count": 311,
   "metadata": {},
   "outputs": [],
   "source": [
    "#Limpador\n",
    "stop_words = nltk.corpus.stopwords.words('portuguese')\n",
    "special_characters= ',.@!#$%¨&*()–_-“”:;+‘’={}[]]?/\\|…\"\"><—'+\"''\"\n",
    "\n",
    "def cleanup (text):\n",
    "    text = text.strip().lower()\n",
    "    for word in special_characters:\n",
    "        text = text.replace(word, \" \")\n",
    "\n",
    "    text = text.strip().split()\n",
    "    clean_text = []\n",
    "    for word in text:\n",
    "        if (word in stop_words) or (word.isnumeric()) or (len(word) <= 1):\n",
    "            text.remove(word)\n",
    "\n",
    "    return text\n",
    "\n",
    "train[\"Texto\"] = train[\"Descrição\"].apply(cleanup)"
   ]
  },
  {
   "cell_type": "code",
   "execution_count": 312,
   "metadata": {},
   "outputs": [
    {
     "name": "stdout",
     "output_type": "stream",
     "text": [
      "estudo faculdade medicina universidade hong kong hkumed sigla inglês analisou capacidade replicação variante ômicron indicou ela pode de fato transmissível porém causar quadros infecciosos menos severos pesquisadores destacaram mesmo severidade reduzida risco global linhagem provavelmente crescente popularidade impulsionado aumento crimes relacionados tokens fungíveis nfts eles lavagem dinheiro a negociação lavagem segundo chainalysis empresa monitora tecnologias blockchain suas aplicações evidência significativa práticas ilegais mercado colecionáveis digitais exclusivos 2021 negociados 44 variante ba cepa ômicron coronavírus é severa que original informou organização mundial saúde oms nesta terça feira base amostra pessoas diferentes países estamos vendo diferença severidade da ba em comparação com a ba disse maria van kerkhove alta funcionária número novos casos mortes covid nas américas diminuiu ainda existem áreas vulneráveis o caribe informou organização pan americana saúde opas nesta quarta feira na semana passada 2 milhões novos casos covid na região seja a menos na semana anterior o número plataforma streaming cria regras contra conteúdo desinformativo sobre covid cantor neil young retirar catálogo protesto entrevistas polêmicas podcast de joe rogan perigo se justin bieber fizer mesmo fósseis dinossauro carnívoro 125 milhões anos dez metros comprimento com cabeça crocodilo provavelmente maior predador já viveu europa descobertos ilha britânica wight revela um estudo publicado nesta quinta feira paleontologia deve preciosa descoberta a um colecionador local britânico parabéns tuitou elon musk post nasa sobre lançamento acoplamento starliner cápsula concorrente sua spacex boeing dia maio duas empresas dividem bolo investimentos agência espacial os próximos anos sendo boeing veterana setor desde década de crise covid desinformação por trás queda contínua acentuada vacinação infantil contra outras doenças quase três décadas segundo relatório organização mundial saúde oms e do unicef divulgado nesta quinta feira proporção crianças recebem três doses vacina contra difteria brasília primeira capital país autorizada agência nacional telecomunicações anatel a ter 5g puro nesta quarta feira o uso faixa frequência 5 ghz possibilita clientes vivo claro tim conexão velocidade 100 vezes maior a 4g entanto twitter paciente covid no reino unido testou positivo 16 meses sua morte caso infecção longo conhecido revela estudo sobre evolução vírus pacientes imunossuprimidos divulgado nesta sexta feira o paciente cuja identidade foi divulgada testou positivo primeira vez meados 2020 ministro alexandre moraes supremo tribunal federal stf determinou neste sábado uma série exigências devem cumpridas telegram horas segundo g1 cumprir determinações pré requisito liberação aplicativo foi proibido nesta sexta em todo brasil telegram até o presente categoria games multijogadores fatura us milhões anuais cria times red canids estrutura centros treinamento semelhantes a dos clubes profissionais de futebol microsoft anunciou nesta terça feira um acordo us bilhões comprar gigante jogos eletrônicos americana activision blizzard empresa trás sucessos call of duty tem sido afetada acusações discriminação sexual contra mulheres a transação confirmada a maior compra feita neste setor exaustão emocional irritabilidade angústia prolongada sintomas algo errado o problema pode no emprego síndrome burnout reconhecida janeiro deste ano organização mundial saúde oms sua 11ª revisão classificação internacional doenças cid como condição que está diretamente relacionada tag heuer a porsche lançaram nesta quinta feira novo relógio luxo conectado tag heuer connected calibre e4 porsche edition inspirado design coleção porsche taycan elétrica o smartwatch ainda possui recursos wear para proprietários carros porsche permitindo informações automóvel apareçam tela twitter apresenta instabilidade tarde desta quinta feira incomodou alguns usuários rede social ativistas vão justiça obrigar nigéria publicar acordo twitter segundo downdetector acompanha o funcionamento principais plataformas digitais mundo problemas começaram volta 13h o site regista marketing comunicação digital vão continuar ascendendo relação tradicionais 2022 prova disso w3haus agência especializada fundada 2000 tem bagagem prêmios cannes a marca ter sido a primeira brasil a fazer uma campanha usando whatsapp 2021 cresceu embora contagiosa ômicron certamente muito menos virulenta mês após detecção áfrica sul nova variante é conhecida embora ainda se saiba ponto influenciará pandemia covid o que sabemos sobre ômicron relação variante delta primeiros testes vacina contra covid que aposta tipo diferente imunidade relação imunizantes clássicos apresentaram resultados promissores diz um estudo publicado nesta terça feira revista científica nature ensaios fase do projeto vacina contra coronavírus denominado covac realizados na alemanha mostraram uma barco endurance explorador anglo irlandês ernest shackleton localizado mar wedell antártica século dos naufrágios famosos história anunciaram líderes de uma expedição nesta quarta feira o endurance encontrado uma profundidade de 3 metros a seis quilômetros local cápsula starliner boeing preparava se acoplar estação espacial internacional iss nesta sexta feira em voo teste tripulado é crucial revitalizar reputação gigante aeroespacial americana após série falhas após decolar noite quinta feira centro espacial kennedy flórida agora única cosmonauta russa ativo anna kikina disse nesta sexta feira que preparada sua próxima viagem estação espacial internacional bordo foguete crew dragon companhia spacex voo programado 3 outubro acontecerá meio crescentes tensões rússia estados unidos devido intervenção militar russa espanha superou barreira mortos covid informou nesta quarta feira o ministério saúde país meio melhora indicadores sanitários após sexta onda explosiva doença dois anos pandemia espanha registra 100 037 mortes covid mais 11 milhões de casos argentina registrou terceira morte pneumonia dupla origem desconhecida província tucumán noroeste investiga foi doente zero surto informaram nesta quinta feira 1º autoridades saúde trata paciente 70 anos estava internada um hospital privado informou ministro de saúde província foguetes precisão himars os estados unidos fornecem ucrânia deram seu exército novo impulso campo batalha fazendo inclinar balança contra rússia que pode pressionar país interromper ofensiva segundo especialistas desde meados junho a ucrânia conseguiu destruir de grandes telescópio espacial james webb produzirá imagens cores espetaculares cosmos partir julho primeiras observações dedicadas sua missão científica informou nesta segunda feira astrônomo supervisiona projeto o sucessor hubble passou últimos cinco meses alinhando instrumentos se preparar a grande revelação embora empresa matriz facebook meta abriu nesta quinta feira ao público estados unidos canadá plataforma realidade virtual horizon worlds novo passo construção sua visão metaverso futuro a horizon worlds longe ser metaverso completamente terminado espécie internet futuro diretor geral organização mundial saúde oms alertou nesta quarta feira contra ilusão que possível superar pandemia covid ao administrar doses reforço nenhum país poderá superar pandemia vacinações reforço estas "
     ]
    }
   ],
   "source": [
    "# Coletando todas as palavras\n",
    "all_words = []\n",
    "for words_list in train['Texto']:\n",
    "    all_words += words_list\n",
    "all_words = pd.Series(all_words)\n",
    "portuguese = list(set(all_words))\n",
    "\n",
    "for word in all_words[0:1000]:\n",
    "    print(word, end=\" \")"
   ]
  },
  {
   "cell_type": "code",
   "execution_count": 313,
   "metadata": {},
   "outputs": [],
   "source": [
    "# Filtrando a base de treino para cada target\n",
    "train_irrelevant = train.loc[train[\"Target\"] == 0, :]\n",
    "train_bad = train.loc[train[\"Target\"] == 1, :]\n",
    "train_neutral = train.loc[train[\"Target\"] == 2, :]\n",
    "train_good = train.loc[train[\"Target\"] == 3, :]\n",
    "\n",
    "# Criando um series para cada target\n",
    "series_irrelevant = pd.Series(train_irrelevant[\"Texto\"].sum(axis= 0))\n",
    "series_bad = pd.Series(train_bad[\"Texto\"].sum(axis= 0))\n",
    "series_neutral = pd.Series(train_neutral[\"Texto\"].sum(axis= 0))\n",
    "series_good = pd.Series(train_good[\"Texto\"].sum(axis= 0))\n",
    "\n",
    "# Fazendo a frequencia absoluta\n",
    "table_irrelevant = series_irrelevant.value_counts()\n",
    "table_bad = series_bad.value_counts()\n",
    "table_neutral = series_neutral.value_counts()\n",
    "table_good = series_good.value_counts()\n",
    "\n",
    "# Fazendo a probabilidade de cada target\n",
    "prob_irrelevant = (len(series_irrelevant)/len(all_words))\n",
    "prob_bad = (len(series_bad)/len(all_words))\n",
    "prob_neutral = (len(series_neutral)/len(all_words))\n",
    "prob_good = (len(series_good)/len(all_words))"
   ]
  },
  {
   "cell_type": "code",
   "execution_count": 314,
   "metadata": {},
   "outputs": [],
   "source": [
    "# Suavizador de Laplace\n",
    "def laplace_smoothing(words_list, amount):\n",
    "    laplace_amount = amount + 1\n",
    "    density = len(words_list) + len(portuguese)\n",
    "    laplace = laplace_amount/density\n",
    "    return laplace\n",
    "\n",
    "# Função probabilidade do target \n",
    "def probability_target(table_target, series_target, news):\n",
    "    \n",
    "    list_target= []\n",
    "    for word in news:\n",
    "        if word in table_target.keys():\n",
    "            amount = table_target[word]\n",
    "        else:\n",
    "            amount = 0\n",
    "        list_target.append(laplace_smoothing(series_target, amount))\n",
    "        \n",
    "    probability_target = np.prod(list_target)\n",
    "    return probability_target\n",
    "\n",
    "# Função do Naive Bayes\n",
    "def naive_bayes(news):\n",
    "    prob_0 = probability_target(table_irrelevant, series_irrelevant, news) * prob_irrelevant\n",
    "    prob_1 = probability_target(table_bad, series_bad, news) * prob_bad\n",
    "    prob_2 = probability_target(table_neutral, series_neutral, news) * prob_neutral\n",
    "    prob_3 = probability_target(table_good, series_good, news) * prob_good\n",
    "\n",
    "    list_probs = [prob_0, prob_1, prob_2, prob_3]\n",
    "    target = list_probs.index(max(list_probs))\n",
    "\n",
    "    return target"
   ]
  },
  {
   "cell_type": "code",
   "execution_count": 315,
   "metadata": {},
   "outputs": [],
   "source": [
    "test[\"Texto\"] = test[\"Descrição\"].apply(cleanup)\n",
    "test[\"Classificacao\"] = test[\"Texto\"].apply(naive_bayes)\n",
    "\n",
    "performance_table = pd.crosstab(test[\"Classificacao\"], test[\"Target\"], normalize=True)"
   ]
  },
  {
   "cell_type": "code",
   "execution_count": 316,
   "metadata": {},
   "outputs": [
    {
     "data": {
      "text/plain": [
       "Text(60.0, 0.5, 'Classificação Manual')"
      ]
     },
     "execution_count": 316,
     "metadata": {},
     "output_type": "execute_result"
    },
    {
     "data": {
      "image/png": "[encoded data removed]",
      "text/plain": [
       "<Figure size 648x504 with 2 Axes>"
      ]
     },
     "metadata": {
      "needs_background": "light"
     },
     "output_type": "display_data"
    }
   ],
   "source": [
    "plt.figure(figsize = (9,7))\n",
    "plt.title('Matriz de Confiança\\ninformações em porcentagem\\n',fontdict={'fontsize': 14})\n",
    "sn.heatmap(performance_table, annot=True, annot_kws={\"size\":30},fmt='.1%',cmap=\"BuPu\")\n",
    "plt.xlabel('Classificação Automática')\n",
    "plt.ylabel('Classificação Manual')"
   ]
  },
  {
   "cell_type": "code",
   "execution_count": 319,
   "metadata": {},
   "outputs": [
    {
     "name": "stdout",
     "output_type": "stream",
     "text": [
      "Verdaveiros Positivos: 49.75%\n",
      "Falsos Positivos: 50.24999999999999%\n"
     ]
    }
   ],
   "source": [
    "true_positives = performance_table[0][0]+performance_table[1][1]+performance_table[2][2]+performance_table[3][3]\n",
    "print(f'Verdaveiros Positivos: {round(true_positives, 4)*100}%')\n",
    "print(f'Falsos Positivos: {round(1 - true_positives, 4)*100}%')"
   ]
  },
  {
   "cell_type": "markdown",
   "metadata": {},
   "source": [
    "___\n",
    "### Verificando a performance do Classificador\n",
    "\n",
    "Agora você deve testar o seu classificador com a base de Testes."
   ]
  },
  {
   "cell_type": "code",
   "execution_count": null,
   "metadata": {},
   "outputs": [],
   "source": []
  },
  {
   "cell_type": "code",
   "execution_count": null,
   "metadata": {},
   "outputs": [],
   "source": []
  },
  {
   "cell_type": "code",
   "execution_count": null,
   "metadata": {},
   "outputs": [],
   "source": []
  },
  {
   "cell_type": "markdown",
   "metadata": {},
   "source": [
    "___\n",
    "### Concluindo"
   ]
  },
  {
   "cell_type": "code",
   "execution_count": null,
   "metadata": {},
   "outputs": [],
   "source": []
  },
  {
   "cell_type": "code",
   "execution_count": null,
   "metadata": {},
   "outputs": [],
   "source": []
  },
  {
   "cell_type": "code",
   "execution_count": null,
   "metadata": {},
   "outputs": [],
   "source": []
  },
  {
   "cell_type": "markdown",
   "metadata": {},
   "source": [
    "___\n",
    "### Qualidade do Classificador a partir de novas separações das notícias entre Treinamento e Teste\n",
    "\n",
    "Caso for fazer esse item do Projeto"
   ]
  },
  {
   "cell_type": "code",
   "execution_count": null,
   "metadata": {},
   "outputs": [],
   "source": []
  },
  {
   "cell_type": "code",
   "execution_count": null,
   "metadata": {},
   "outputs": [],
   "source": []
  },
  {
   "cell_type": "code",
   "execution_count": null,
   "metadata": {},
   "outputs": [],
   "source": []
  },
  {
   "cell_type": "markdown",
   "metadata": {},
   "source": [
    "___\n",
    "## Aperfeiçoamento:\n",
    "\n",
    "Trabalhos que conseguirem pelo menos conceito B vão evoluir em conceito dependendo da quantidade de itens avançados:\n",
    "\n",
    "* IMPLEMENTOU outras limpezas e transformações que não afetem a qualidade da informação contida nas notícias. Ex: stemming, lemmatization, stopwords\n",
    "* CONSIDEROU mais de duas caterogias na variável Target e INCREMENTOU a quantidade de notícias, mantendo pelo menos 250 notícias por caterogia (OBRIGATÓRIO PARA TRIOS, sem contar como item avançado)\n",
    "* Para Target com duas categorias: CRIOU pelo menos quatro categorias intermediárias de relevância baseadas na probabilidade: ex.: muito relevante, relevante, neutro, irrelevante, muito irrelevante\n",
    "* EXPLICOU porquê não pode usar o próprio classificador para gerar mais amostras de treinamento\n",
    "* PROPÔS diferentes cenários para Naïve Bayes fora do contexto do projeto (pelo menos dois cenários, exceto aqueles já apresentados em sala pelos professores: por exemplo, filtro de spam)\n",
    "* SUGERIU e EXPLICOU melhorias reais com indicações concretas de como implementar (indicar como fazer e indicar material de pesquisa)\n",
    "* FEZ o item Qualidade do Classificador a partir de novas separações das Notícias entre Treinamento e Teste descrito no enunciado do projeto (OBRIGATÓRIO para conceitos A ou A+)"
   ]
  },
  {
   "cell_type": "markdown",
   "metadata": {},
   "source": [
    "___\n",
    "## Referências"
   ]
  },
  {
   "cell_type": "markdown",
   "metadata": {},
   "source": [
    "[Naive Bayes and Text Classification](https://arxiv.org/pdf/1410.5329.pdf)  **Mais completo**\n",
    "\n",
    "[A practical explanation of a Naive Bayes Classifier](https://monkeylearn.com/blog/practical-explanation-naive-bayes-classifier/) **Mais simples**"
   ]
  },
  {
   "cell_type": "code",
   "execution_count": null,
   "metadata": {},
   "outputs": [],
   "source": []
  }
 ],
 "metadata": {
  "kernelspec": {
   "display_name": "Python 3 (ipykernel)",
   "language": "python",
   "name": "python3"
  },
  "language_info": {
   "codemirror_mode": {
    "name": "ipython",
    "version": 3
   },
   "file_extension": ".py",
   "mimetype": "text/x-python",
   "name": "python",
   "nbconvert_exporter": "python",
   "pygments_lexer": "ipython3",
   "version": "3.9.7"
  },
  "vscode": {
   "interpreter": {
    "hash": "eb7af8c955b36ac4d04fa9969eb33b8c629734543e89e2f9358555e6c3f18d8e"
   }
  }
 },
 "nbformat": 4,
 "nbformat_minor": 4
}
