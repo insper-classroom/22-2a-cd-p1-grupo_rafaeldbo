{
 "cells": [
  {
   "cell_type": "markdown",
   "metadata": {},
   "source": [
    "# Projeto 1 - Ciência dos Dados\n",
    "## Classificador de Notícias - Impacto da Tecnologia na Sociedade"
   ]
  },
  {
   "cell_type": "markdown",
   "metadata": {},
   "source": [
    "Nome: Alex Souza Pacchioni\n",
    "\n",
    "Nome: Rafael Dourado Bastos de Oliveira"
   ]
  },
  {
   "cell_type": "markdown",
   "metadata": {},
   "source": [
    "___\n",
    "Carregando as bibliotecas necessárias:"
   ]
  },
  {
   "cell_type": "code",
   "execution_count": 3,
   "metadata": {},
   "outputs": [
    {
     "name": "stderr",
     "output_type": "stream",
     "text": [
      "[nltk_data] Downloading package stopwords to\n",
      "[nltk_data]     C:\\Users\\ivanp\\AppData\\Roaming\\nltk_data...\n",
      "[nltk_data]   Package stopwords is already up-to-date!\n"
     ]
    }
   ],
   "source": [
    "%matplotlib inline\n",
    "import pandas as pd\n",
    "import numpy as np\n",
    "import os\n",
    "\n",
    "# Bibliotecas gráficas para facilitar a vizualização dos dados\n",
    "import matplotlib.pyplot as plt\n",
    "import seaborn as sn\n",
    "from IPython.display import display\n",
    "\n",
    "# Biblioteca para obtenção de stop words\n",
    "import nltk\n",
    "nltk.download('stopwords')\n",
    "\n",
    "# Biblioteca que remove os warnings do Jupter Notbook para uma vizualização mais limpa do documento\n",
    "import warnings\n",
    "warnings.filterwarnings('ignore')"
   ]
  },
  {
   "cell_type": "code",
   "execution_count": 4,
   "metadata": {
    "scrolled": false
   },
   "outputs": [
    {
     "name": "stdout",
     "output_type": "stream",
     "text": [
      "Esperamos trabalhar no diretório\n",
      "C:\\Users\\ivanp\\OneDrive\\Documentos\\INSPER\\2o. Semestre_2022\\C.Dados\\22-2a-cd-p1-grupo_rafaeldbo\\notebooks\n"
     ]
    }
   ],
   "source": [
    "print('Esperamos trabalhar no diretório')\n",
    "print(os.getcwd())"
   ]
  },
  {
   "cell_type": "markdown",
   "metadata": {},
   "source": [
    "Carregando a base de dados com as notícias classificadas manualmente:"
   ]
  },
  {
   "cell_type": "code",
   "execution_count": 5,
   "metadata": {},
   "outputs": [],
   "source": [
    "path = '../data/'\n",
    "filename = 'dados.xlsx'"
   ]
  },
  {
   "cell_type": "code",
   "execution_count": 6,
   "metadata": {},
   "outputs": [],
   "source": [
    "train = pd.read_excel(path+filename, sheet_name = 'Treinamento')\n",
    "test = pd.read_excel(path+filename, sheet_name = 'Teste')"
   ]
  },
  {
   "cell_type": "markdown",
   "metadata": {},
   "source": [
    "___\n",
    "## Classificador automático\n"
   ]
  },
  {
   "cell_type": "markdown",
   "metadata": {},
   "source": [
    "A tecnologia é um tema extremamente presente no cotidano mundial atualmente e, por isso, dezenas notícias sobre o assunto são postadas por mês. Tendo em vista essa importância, esse projeto tem o intuito de enteder melhor o impacto direto dessas noticias na sociedade por meio da categorização de notícias. Para isso, as notícias coletadas da plataforma *Isto é Dinheiro* na aba de *Tecnologia* foram separadas em **positivas** e **negativas** para que, por meio do **Classificador Naive-Bayes**, fosse possível descobrir a relação entre as palavras classíficadas. \n",
    "\n",
    "Para esse projeto foi o escolhido o **Classificador Naive-Bayes**  por ele ser especialmente conhecido por ter um bom desempenho em problemas de classificação de texto. Isso se deve pela sua capacidade de utilizar as probabilidades independentes da ocorrência de palavras em um texto para estimar a chance desse texto pertencer a certo grupo/conjunto.\n",
    "\n",
    "**Tagets**\n",
    "- 0: Negativas\n",
    "\n",
    "Notícias classificadas como negativas são aquelas que não possuem relevancia para a sociedade em geral, como a venda do twitter, ou trazem informações ruins, como aumento de casos do Covid.\n",
    "- 1: Positivas\n",
    "\n",
    "Já para ser considerada positiva, a notícia ser relevante para a sociedade ou trazer informações que a beneficiam, como o avanço da vacinação e entrada de novas tecnologias no mercado."
   ]
  },
  {
   "cell_type": "markdown",
   "metadata": {},
   "source": [
    "___\n",
    "### Montando um Classificador Naive-Bayes\n",
    "\n",
    "Inicialmente, foi necessário realizar limpezas nos textos das notícias para remover conteúdos que pudessem atrapalhar a classificação das noticícias, como **Caracteres Especiais**, **Números** (pois fora de contexto eles perdem o sentido) e **Stop Words** (palavras muito comuns na construção de uma frases, mas, muitas vezes, são insignificantes para o sentido da frase). Para isso montou-se a função de limpeza abaixo:"
   ]
  },
  {
   "cell_type": "code",
   "execution_count": 7,
   "metadata": {},
   "outputs": [],
   "source": [
    "stop_words = nltk.corpus.stopwords.words('portuguese')\n",
    "special_characters= ',.@!#$%¨&*()–_-“”:;+‘’={}[]]?/\\|…\"\"><'+\"''\"\n",
    "\n",
    "# Função de limpeza \n",
    "def cleanup (text):\n",
    "    # removendo espaços e quebra de linhas desnecessários\n",
    "    # colocando toda a notícia em minúsculo para que não haja essa diferenciação em palavras iguais\n",
    "    text = text.strip().lower() \n",
    "    for word in special_characters: # rmovendo caracteres especiais\n",
    "        text = text.replace(word, \" \")\n",
    "\n",
    "    text = text.strip().split() # transformando a noticia em uma lista\n",
    "    clean_text = []\n",
    "    for word in text:\n",
    "        # removendo stop words e números\n",
    "        if (word not in stop_words) and (not word.isnumeric()) and (len(word) > 1):\n",
    "            clean_text.append(word) \n",
    "\n",
    "    return clean_text\n",
    "\n",
    "# Limpando as notícias e as transformando em listas de palavras\n",
    "train[\"Texto\"] = train[\"Descrição\"].apply(cleanup)"
   ]
  },
  {
   "cell_type": "markdown",
   "metadata": {},
   "source": [
    "Após realizar a limpeza das notícias da base de treino, foi realizada a coleta de todas as palavras presentes nas noticias de treino para sabermos qual é o espaço amostral com o qual vamos trabalhar"
   ]
  },
  {
   "cell_type": "code",
   "execution_count": 8,
   "metadata": {},
   "outputs": [],
   "source": [
    "# Coletando todas as palavras de todas as notícias\n",
    "all_words = []\n",
    "for words_list in train['Texto']:\n",
    "    all_words += words_list\n",
    "all_words = pd.Series(all_words) # Todas as palavras (com repetições)\n",
    "portuguese = list(set(all_words)) # Todas as palavras (sem repetições)"
   ]
  },
  {
   "cell_type": "markdown",
   "metadata": {},
   "source": [
    "Para aplicação do Classificador Naive-bayes se faz necessário conhecer a frequência relativa das palavras em determinado target - que é equivalente a probabilidade de que, caso essa palavra seja encontrada, ela pertença a um respectivo target.\n",
    "\n",
    "Para encontrar essas frequências, a partir do espaço amostral anteriormente definido, separou-se as noticias de acordo com seus targets classificados manualmente e descobriu-se a **frequência absoluta** de cada palavra em seu respectivo target e a **probabilidade geral** de cada target:"
   ]
  },
  {
   "cell_type": "code",
   "execution_count": 9,
   "metadata": {},
   "outputs": [
    {
     "data": {
      "text/html": [
       "<div>\n",
       "<style scoped>\n",
       "    .dataframe tbody tr th:only-of-type {\n",
       "        vertical-align: middle;\n",
       "    }\n",
       "\n",
       "    .dataframe tbody tr th {\n",
       "        vertical-align: top;\n",
       "    }\n",
       "\n",
       "    .dataframe thead th {\n",
       "        text-align: right;\n",
       "    }\n",
       "</style>\n",
       "<table border=\"1\" class=\"dataframe\">\n",
       "  <thead>\n",
       "    <tr style=\"text-align: right;\">\n",
       "      <th></th>\n",
       "      <th>0</th>\n",
       "    </tr>\n",
       "  </thead>\n",
       "  <tbody>\n",
       "    <tr>\n",
       "      <th>feira</th>\n",
       "      <td>257</td>\n",
       "    </tr>\n",
       "    <tr>\n",
       "      <th>nesta</th>\n",
       "      <td>223</td>\n",
       "    </tr>\n",
       "    <tr>\n",
       "      <th>covid</th>\n",
       "      <td>126</td>\n",
       "    </tr>\n",
       "    <tr>\n",
       "      <th>saúde</th>\n",
       "      <td>111</td>\n",
       "    </tr>\n",
       "    <tr>\n",
       "      <th>casos</th>\n",
       "      <td>93</td>\n",
       "    </tr>\n",
       "    <tr>\n",
       "      <th>segundo</th>\n",
       "      <td>74</td>\n",
       "    </tr>\n",
       "    <tr>\n",
       "      <th>anos</th>\n",
       "      <td>72</td>\n",
       "    </tr>\n",
       "    <tr>\n",
       "      <th>contra</th>\n",
       "      <td>70</td>\n",
       "    </tr>\n",
       "    <tr>\n",
       "      <th>sobre</th>\n",
       "      <td>68</td>\n",
       "    </tr>\n",
       "    <tr>\n",
       "      <th>mundo</th>\n",
       "      <td>67</td>\n",
       "    </tr>\n",
       "  </tbody>\n",
       "</table>\n",
       "</div>"
      ],
      "text/plain": [
       "           0\n",
       "feira    257\n",
       "nesta    223\n",
       "covid    126\n",
       "saúde    111\n",
       "casos     93\n",
       "segundo   74\n",
       "anos      72\n",
       "contra    70\n",
       "sobre     68\n",
       "mundo     67"
      ]
     },
     "metadata": {},
     "output_type": "display_data"
    },
    {
     "data": {
      "text/html": [
       "<div>\n",
       "<style scoped>\n",
       "    .dataframe tbody tr th:only-of-type {\n",
       "        vertical-align: middle;\n",
       "    }\n",
       "\n",
       "    .dataframe tbody tr th {\n",
       "        vertical-align: top;\n",
       "    }\n",
       "\n",
       "    .dataframe thead th {\n",
       "        text-align: right;\n",
       "    }\n",
       "</style>\n",
       "<table border=\"1\" class=\"dataframe\">\n",
       "  <thead>\n",
       "    <tr style=\"text-align: right;\">\n",
       "      <th></th>\n",
       "      <th>0</th>\n",
       "    </tr>\n",
       "  </thead>\n",
       "  <tbody>\n",
       "    <tr>\n",
       "      <th>feira</th>\n",
       "      <td>254</td>\n",
       "    </tr>\n",
       "    <tr>\n",
       "      <th>nesta</th>\n",
       "      <td>218</td>\n",
       "    </tr>\n",
       "    <tr>\n",
       "      <th>contra</th>\n",
       "      <td>111</td>\n",
       "    </tr>\n",
       "    <tr>\n",
       "      <th>covid</th>\n",
       "      <td>110</td>\n",
       "    </tr>\n",
       "    <tr>\n",
       "      <th>estados</th>\n",
       "      <td>82</td>\n",
       "    </tr>\n",
       "    <tr>\n",
       "      <th>unidos</th>\n",
       "      <td>76</td>\n",
       "    </tr>\n",
       "    <tr>\n",
       "      <th>anunciou</th>\n",
       "      <td>73</td>\n",
       "    </tr>\n",
       "    <tr>\n",
       "      <th>espacial</th>\n",
       "      <td>72</td>\n",
       "    </tr>\n",
       "    <tr>\n",
       "      <th>quinta</th>\n",
       "      <td>71</td>\n",
       "    </tr>\n",
       "    <tr>\n",
       "      <th>anos</th>\n",
       "      <td>71</td>\n",
       "    </tr>\n",
       "  </tbody>\n",
       "</table>\n",
       "</div>"
      ],
      "text/plain": [
       "            0\n",
       "feira     254\n",
       "nesta     218\n",
       "contra    111\n",
       "covid     110\n",
       "estados    82\n",
       "unidos     76\n",
       "anunciou   73\n",
       "espacial   72\n",
       "quinta     71\n",
       "anos       71"
      ]
     },
     "metadata": {},
     "output_type": "display_data"
    }
   ],
   "source": [
    "# Filtrando a base de treino para cada target\n",
    "train_bad = train.loc[train[\"Target\"] == 0, :]\n",
    "train_good = train.loc[train[\"Target\"] == 1, :]\n",
    "\n",
    "# Criando um Series com todas as palavras de cada target\n",
    "series_bad = pd.Series(train_bad[\"Texto\"].sum(axis= 0))\n",
    "series_good = pd.Series(train_good[\"Texto\"].sum(axis= 0))\n",
    "\n",
    "# Obtendo a frequencia absoluta de cada palavra em cada target\n",
    "table_bad = series_bad.value_counts()\n",
    "table_good = series_good.value_counts()\n",
    "\n",
    "# Calculando a probabilidade de cada target\n",
    "prob_bad = (len(series_bad)/len(all_words))\n",
    "prob_good = (len(series_good)/len(all_words))\n",
    "\n",
    "display(table_bad.head(10).to_frame())\n",
    "display(table_good.head(10).to_frame())"
   ]
  },
  {
   "cell_type": "markdown",
   "metadata": {},
   "source": [
    "Porém utilizar simplesmente a frêquencia relativa obtida pela divisão frequência absoluta da palavra pela quantidade de palavras pertencentes ao Target não será viável, pois podem haver palavras que não possue frequências definidas durante o treinamento, possuindo a frequência relativa 0.\n",
    "\n",
    "Para resolver esse problema usaremos a **Suavização de Laplace** \n",
    "\n",
    "Para aplicá-la devemos adicionar 1 a frequência absoluta (no repectivo target) de cada palavra encontrada para que ela nunca seja 0. Porém, para equilibrar isso, adicionamos o número de palavras possíveis (total de palavras do target) ao divisor, para que o resultado dessa divisão nunca seja maior do que 1. Assim, obtemos a frequência relativa de cada palavra sem termos problema de possuir uma frequência 0.\n",
    "\n",
    "$$P(palavra|target) = \\frac{F_{target}+1}{P_{target}+P_{todas}}$$\n",
    "\n",
    "Onde: \n",
    "\n",
    "$ F_{target}$: Frequência absoluta da palavra no target\n",
    "    \n",
    "$P_{target}$: Número de palavras pertencentes ao target\n",
    "\n",
    "$P_{todas}$: Número de palavras na base de dados de treinamento (sem repetições)\n"
   ]
  },
  {
   "cell_type": "code",
   "execution_count": 10,
   "metadata": {},
   "outputs": [],
   "source": [
    "# Suavizador de Laplace\n",
    "def laplace_smoothing(words_list, amount):\n",
    "    laplace_amount = amount + 1\n",
    "    density = len(words_list) + len(portuguese)\n",
    "    laplace = laplace_amount/density\n",
    "    return laplace"
   ]
  },
  {
   "cell_type": "markdown",
   "metadata": {},
   "source": [
    "Em posse de uma forma de calcular a frequência relativa individual de cada palavra em seu target evitando o problema da frequência 0, o próximo passo é calcular a propabilidade de uma notícia pertencer a cada target.\n",
    "\n",
    "$$P(target|notícia)=\\frac{P(palavra_1|target)P(palavra_2|target)...P(palavra_n|target) P(target)}{P(notícia)}$$\n",
    "\n",
    "Por fim, define-se que a notícia pertence ao target que possui a mais probalidade resultante."
   ]
  },
  {
   "cell_type": "code",
   "execution_count": 11,
   "metadata": {},
   "outputs": [],
   "source": [
    "# Função que calcula a probabilidade de uma notícia ser de um determinado target \n",
    "def probability_target(table_target, series_target, news):\n",
    "    \n",
    "    list_target= []\n",
    "    for word in news:\n",
    "        amount = table_target[word] if word in table_target.keys() else 0\n",
    "        list_target.append(laplace_smoothing(series_target, amount))\n",
    "        \n",
    "    probability_target = np.prod(list_target)\n",
    "    return probability_target\n",
    "\n",
    "# Função do Naive Bayes\n",
    "def naive_bayes(news):\n",
    "    prob_0 = probability_target(table_bad, series_bad, news) * prob_bad\n",
    "    prob_1 = probability_target(table_good, series_good, news) * prob_good\n",
    "\n",
    "    list_probs = [prob_0, prob_1]\n",
    "    target = list_probs.index(max(list_probs))\n",
    "\n",
    "    return target"
   ]
  },
  {
   "cell_type": "markdown",
   "metadata": {},
   "source": [
    "#### Verificando a eficácia do Modelo no conjunto de treinamento\n",
    "\n",
    "Para verificarmos se o classficador está funcionando como deveria, vamos testa-lo em sua própria base de treino e ver sua eficácia."
   ]
  },
  {
   "cell_type": "code",
   "execution_count": 12,
   "metadata": {},
   "outputs": [],
   "source": [
    "train[\"Classificacao\"] = train[\"Texto\"].apply(naive_bayes) # Aplicando o classificador\n",
    "\n",
    "# Gerando uma tabela comparativa entre a classificação automática do Classificador e a manual feita por nós\n",
    "performance_table = pd.crosstab(train[\"Classificacao\"], train[\"Target\"], normalize=True)"
   ]
  },
  {
   "cell_type": "markdown",
   "metadata": {},
   "source": [
    "Para uma melhor vizualização desse resultado, usaremos o mapa de calor da biblioteca Seaborn [Fonte: https://seaborn.pydata.org]"
   ]
  },
  {
   "cell_type": "code",
   "execution_count": 13,
   "metadata": {},
   "outputs": [
    {
     "data": {
      "text/plain": [
       "Text(60.0, 0.5, 'Classificação Manual')"
      ]
     },
     "execution_count": 13,
     "metadata": {},
     "output_type": "execute_result"
    },
    {
     "data": {
      "image/png": "[encoded data removed]",
      "text/plain": [
       "<Figure size 648x504 with 2 Axes>"
      ]
     },
     "metadata": {
      "needs_background": "light"
     },
     "output_type": "display_data"
    }
   ],
   "source": [
    "plt.figure(figsize = (9,7))\n",
    "plt.title('Matriz de Confusão\\ninformações em porcentagem\\n',fontdict={'fontsize': 14})\n",
    "sn.heatmap(performance_table, annot=True, annot_kws={\"size\":30},fmt='.1%',cmap=\"BuPu\")\n",
    "plt.xlabel('Classificação Automática')\n",
    "plt.ylabel('Classificação Manual')"
   ]
  },
  {
   "cell_type": "markdown",
   "metadata": {},
   "source": [
    "Por fim, vamos ver a acurácia do modelo:"
   ]
  },
  {
   "cell_type": "code",
   "execution_count": 14,
   "metadata": {},
   "outputs": [
    {
     "name": "stdout",
     "output_type": "stream",
     "text": [
      "A acurácia do modelo foi de 97.20% quando aplicado na base de treinamento!\n"
     ]
    }
   ],
   "source": [
    "accuracy = performance_table[0][0] + performance_table[1][1]\n",
    "print(f'A acurácia do modelo foi de {accuracy*100:.2f}% quando aplicado na base de treinamento!')"
   ]
  },
  {
   "cell_type": "markdown",
   "metadata": {},
   "source": [
    "___\n",
    "### Verificando a performance do Classificador\n",
    "\n",
    "Agora que sabemos que nosso modelo está funcionando de maneira aceitável vamos aplica-lo em uma nova base de dados: a base de teste. Para conhecermos a eficácia do nosso modelo diante a novas notícias, essa base de dados também foi classificada manualmente."
   ]
  },
  {
   "cell_type": "code",
   "execution_count": 15,
   "metadata": {},
   "outputs": [],
   "source": [
    "test[\"Texto\"] = test[\"Descrição\"].apply(cleanup) # Fazendo a limpeza das notícias\n",
    "test[\"Classificacao\"] = test[\"Texto\"].apply(naive_bayes) # Aplicando o Classificador\n",
    "\n",
    "performance_table = pd.crosstab(test[\"Classificacao\"], test[\"Target\"], normalize=True)"
   ]
  },
  {
   "cell_type": "code",
   "execution_count": 16,
   "metadata": {},
   "outputs": [
    {
     "data": {
      "text/plain": [
       "Text(60.0, 0.5, 'Classificação Manual')"
      ]
     },
     "execution_count": 16,
     "metadata": {},
     "output_type": "execute_result"
    },
    {
     "data": {
      "image/png": "[encoded data removed]",
      "text/plain": [
       "<Figure size 648x504 with 2 Axes>"
      ]
     },
     "metadata": {
      "needs_background": "light"
     },
     "output_type": "display_data"
    }
   ],
   "source": [
    "plt.figure(figsize = (9,7))\n",
    "plt.title('Matriz de Confusão\\ninformações em porcentagem\\n',fontdict={'fontsize': 14})\n",
    "sn.heatmap(performance_table, annot=True, annot_kws={\"size\":30},fmt='.1%',cmap=\"BuPu\")\n",
    "plt.xlabel('Classificação Automática')\n",
    "plt.ylabel('Classificação Manual')"
   ]
  },
  {
   "cell_type": "markdown",
   "metadata": {},
   "source": [
    "Por meio do mapa de calor é possível ver que a porcentagem de acerto do nosso classificador foi bastante significativa, mas para que fique mais clara a distribuição desse resultado vamos separa-los em *verdadeiros positivos*, *verdadeiros negativo*, *falsos positivos*, *falsos negativos* e ver a acurácia total do modelo.\n",
    "\n",
    "Sendo:\n",
    "- Verdadeiros positivos: notícias classificadas como **positivas corretamente**\n",
    "- Verdadeiros negativos: notícias classificadas como **negativas corretamente**\n",
    "- Falsos positivos: notícias classificadas como **positivas erroneamente**\n",
    "- Falsos negativos: notícias classificadas como **negativas erroneamente**"
   ]
  },
  {
   "cell_type": "code",
   "execution_count": 17,
   "metadata": {},
   "outputs": [],
   "source": [
    "true_positives = performance_table[0][0]\n",
    "true_negatives = performance_table[1][1]\n",
    "false_positives = performance_table[1][0]\n",
    "false_negatives = performance_table[0][1]"
   ]
  },
  {
   "cell_type": "code",
   "execution_count": 18,
   "metadata": {},
   "outputs": [
    {
     "name": "stdout",
     "output_type": "stream",
     "text": [
      "A acurácia do modelo foi de 71.25% quando aplicado na base de testes!\n",
      "\n",
      "Porcentagem de Verdadeiros Positivos: 38.75%\n",
      "Porcentagem de Verdadeiros Negativos: 32.50%\n",
      "Porcentagem de Falsos Positivos: 15.00%\n",
      "Porcentagem de Falsos Negativos: 13.75%\n"
     ]
    }
   ],
   "source": [
    "accuracy = true_positives + true_negatives\n",
    "print(f'A acurácia do modelo foi de {accuracy*100:.2f}% quando aplicado na base de testes!\\n')\n",
    "\n",
    "print(f'Porcentagem de Verdadeiros Positivos: {true_positives*100:.2f}%')\n",
    "print(f'Porcentagem de Verdadeiros Negativos: {true_negatives*100:.2f}%')\n",
    "print(f'Porcentagem de Falsos Positivos: {false_positives*100:.2f}%')\n",
    "print(f'Porcentagem de Falsos Negativos: {false_negatives*100:.2f}%')"
   ]
  },
  {
   "cell_type": "markdown",
   "metadata": {},
   "source": [
    "___\n",
    "### Concluindo"
   ]
  },
  {
   "cell_type": "markdown",
   "metadata": {},
   "source": [
    "Como visto nos resultados a cima, o classificador possui alta eficácia, *classificando corretamente cerca de 70% das notícias* da base de teste. É possivel notar que essa eficácia é bem menor do que a obtidida pela classificação automática da base de teste. Isso se da devido a ingenuidade do classificador que desconsidera relação de dependência entre as palavras. Por isso, muitos casos como: **ambiguidade**, **duplas negações**, **sarcasmos** ou **ironias**, podem ser classificados erroneamente, visto que ele analisará matematicamente a probabilidade idenpendente das palavras de constituição da notícia e não seu sentido na construção da informação.\n",
    "\n",
    "Outro fator que colabora para essa redução no índice de acerto é o tamanho da base de dados, uma vez que para fins de um classificador efetivo ela teria de ser maior, principalmente para uma maior variedade de palavras tal qual melhor assimilação de padrões que possam aumentar a probabilidade de determinadas palavras e termos, aumentando consideravelmente a capacidade de generalização do modelo para com novas notícias.\n",
    "\n",
    "Para aumentar a base de dados de treinamento parece tentador utilizar o próprio classificador para gerar novos dados de treino. Porém, isso não funcionaria como o esperado, isso ocorre principalmente por que o classificador não é perfeito - possui cerca de 30% de chance de errar uma clasificação. Assim, o erro gerado por ele será propagado em suas futuras classificações, diminuindo cada vez mais sua eficácia.\n",
    "\n",
    "Vale-se destacar que como esse classificador tem modelagem quase que estritamente matemática, sem muitas considerações semânticas e humanas, sua perfomance foi considerável dentro do possível, e com isso, agregando fatores e melhorias abaixo, sua perfomance tende a melhorar conseguindo cumprir com extrema eficácia sua proposição esperada."
   ]
  },
  {
   "cell_type": "markdown",
   "metadata": {},
   "source": [
    "#### Melhorias para Implementações Futuras\n",
    "\n",
    "- **Aplicação função logarítmica:**\n",
    "\n",
    " A aplicação do logaritmo se vê necessária unicamente nos valores de probabilidade de a notícia ser de cada um dos targets, tendo em mente que os valores se encontram em uma escala muito pequena. Tal método evita com que se gere uma defasagem na classificação da função do Naive Bayes, a qual poderia ter a classificação na comparação de probabilidades prejudicada pelos arredondamentos indesejados do Python.  \n",
    "\n",
    "- **Lematização:** \n",
    "\n",
    "Como outros recursos de preparo/limpeza da base de dados, a lematização é uma estratégia de evitar a propagação de palavras de mesmo significado, englobando-as em uma que as abranja da forma mais básica removendo seus sufixos. Um exemplo disso seria a presença de palavras como *“infectados”* e *“infectando”*, as quais seriam reduzidas a *“infecção”*. Existem outros recursos que desenvolvem a mesma funcionalidade como o stemming, entretanto a lematização é a que apresenta resultados mais coerente, não deixando tantas palavras “fragmentadas” pela remoção dos sufixos. \n",
    "\n",
    "- **Ampliação a base de dados:** \n",
    "\n",
    "Por fim, outra importante melhoria seria a ampliação da base de treinamento através da classificação manual de mais notícias, pois, como já dito anteriormente, isso além de aumentar a variedade de palavras conhecidadas, permitiria que o classificador reconhecesse melhor os padrões encontrados em cada target, permitindo uma melhor generalização do modelo."
   ]
  },
  {
   "cell_type": "markdown",
   "metadata": {},
   "source": [
    "#### Outros usos para o Classificador Naive-Bayes\n",
    "\n",
    "Por ser um classificador ótimo para aplicações rápidas, mas de baixa complexidade, o classificador Naive-bayes pode ser usado em **sistemas de recomendações de conteúdo**, analizando as padrões de preferência para a realização de uma propaganda. Outro uso pode ser na área médica, corrlacionando sintomas com possíveis doenças para auxiliar em **diagnósticos**."
   ]
  },
  {
   "cell_type": "markdown",
   "metadata": {},
   "source": [
    "#### Plano de Expansão\n",
    "\n",
    "Com o aumento da escala do nosso projeto será possível identificar o progresso tecnológico de um país através das notícias circulando dentro dele. Permitindo, assim, que entidades competentes atuem em áreas de impacto positivo e mitiguem os dados das áreas prejudiciais a sociedade. Porém, para que o projeto alcance tais proporções será necessário um contínuo aprimoramento, a começar pela melhora da acurácia do classificador, para que suas análises sejam cada vez mais pertinentes e confiáveis."
   ]
  },
  {
   "cell_type": "markdown",
   "metadata": {},
   "source": [
    "___\n",
    "### Qualidade do Classificador a partir de novas separações das notícias entre Treinamento e Teste\n",
    "\n",
    "Por fim, para confirmar a eficácia do nosso modelo, vamos realizar uma série de embaralhamentos e separações entre as bases de treino e teste afim de verificar se acurácia do nosso é realmente a encontrada (cerca de 70%) ou se foi apenas um caso improvável.\n"
   ]
  },
  {
   "cell_type": "code",
   "execution_count": 19,
   "metadata": {},
   "outputs": [],
   "source": [
    "new_test_amount = 500\n",
    "all_news = pd.concat([train, test])\n",
    "all_news['Classificacao'] = np.NaN"
   ]
  },
  {
   "cell_type": "code",
   "execution_count": null,
   "metadata": {},
   "outputs": [],
   "source": [
    "list_accuracy = []\n",
    "for i in range(new_test_amount):\n",
    "    # Criando novas separeações aleatórias de treinamento e teste\n",
    "    random_all_news = all_news.sample(frac=1).reset_index(drop=True)\n",
    "    new_train = random_all_news.iloc[0:len(train), :]\n",
    "    new_test = random_all_news.iloc[len(train):len(random_all_news), :]\n",
    "\n",
    "    new_train[\"Texto\"] = new_train[\"Descrição\"].apply(cleanup)\n",
    "\n",
    "    # Coletando todas as palavras\n",
    "    all_words = []\n",
    "    for words_list in new_train['Texto']:\n",
    "        all_words += words_list\n",
    "    all_words = pd.Series(all_words)\n",
    "    portuguese = list(set(all_words))\n",
    "\n",
    "    # Filtrando a base de treino para cada target\n",
    "    train_bad = new_train.loc[new_train[\"Target\"] == 0, :]\n",
    "    train_good = new_train.loc[new_train[\"Target\"] == 1, :]\n",
    "\n",
    "    # Criando um Series com todas as palavras de cada target\n",
    "    series_bad = pd.Series(train_bad[\"Texto\"].sum(axis= 0))\n",
    "    series_good = pd.Series(train_good[\"Texto\"].sum(axis= 0))\n",
    "\n",
    "    # Obtendo a frequencia absoluta de cada palavra em cada target\n",
    "    table_bad = series_bad.value_counts()\n",
    "    table_good = series_good.value_counts()\n",
    "\n",
    "    # Calculando a probabilidade de cada target\n",
    "    prob_bad = (len(series_bad)/len(all_words))\n",
    "    prob_good = (len(series_good)/len(all_words))\n",
    "\n",
    "    new_test[\"Texto\"] = new_test[\"Descrição\"].apply(cleanup)\n",
    "    new_test[\"Classificacao\"] = new_test[\"Texto\"].apply(naive_bayes)\n",
    "\n",
    "    performance_table = pd.crosstab(new_test[\"Classificacao\"], new_test[\"Target\"], normalize=True)\n",
    "\n",
    "    # agora vamos calular acurácia do classificador\n",
    "    accuracy = performance_table[0][0] + performance_table[1][1]\n",
    "    list_accuracy.append(accuracy*100)"
   ]
  },
  {
   "cell_type": "markdown",
   "metadata": {},
   "source": [
    "Após realizar uma quantidade considerável de testes com a base de dados aleatórizadas, vamos gerar um histograma para analizar distribuição das acurácias da aplicação do modelo."
   ]
  },
  {
   "cell_type": "code",
   "execution_count": null,
   "metadata": {},
   "outputs": [],
   "source": [
    "faixa=np.arange(min(list_accuracy) - 1, max(list_accuracy) + 1, 0.5)\n",
    "plt.figure(figsize=(12, 5))\n",
    "plt.hist(list_accuracy, bins=faixa, edgecolor='black', density=False)\n",
    "plt.title('Frequência da acuracia do modelo')\n",
    "plt.ylabel('Frequência')\n",
    "plt.xlabel('Porcentagem de acerto (%)')\n",
    "plt.xlim(min(list_accuracy) - 0.5, max(list_accuracy) + 1)\n",
    "plt.show()"
   ]
  },
  {
   "cell_type": "markdown",
   "metadata": {},
   "source": [
    "Como podemos ver no gráfico acima, a acurácia mais provável do nosso modelo com a base de dados atual é entre 70% e 72% o que, para um modelo com as limitações já apresentadas anteiormente, é extremamente razoavel."
   ]
  },
  {
   "cell_type": "markdown",
   "metadata": {},
   "source": [
    "___\n",
    "## Aperfeiçoamento:\n",
    "\n",
    "Trabalhos que conseguirem pelo menos conceito B vão evoluir em conceito dependendo da quantidade de itens avançados:\n",
    "\n",
    "* IMPLEMENTOU outras limpezas e transformações que não afetem a qualidade da informação contida nas notícias. Ex: stemming, lemmatization, stopwords\n",
    "* CONSIDEROU mais de duas caterogias na variável Target e INCREMENTOU a quantidade de notícias, mantendo pelo menos 250 notícias por caterogia (OBRIGATÓRIO PARA TRIOS, sem contar como item avançado)\n",
    "* Para Target com duas categorias: CRIOU pelo menos quatro categorias intermediárias de relevância baseadas na probabilidade: ex.: muito relevante, relevante, neutro, irrelevante, muito irrelevante\n",
    "* EXPLICOU porquê não pode usar o próprio classificador para gerar mais amostras de treinamento\n",
    "* PROPÔS diferentes cenários para Naïve Bayes fora do contexto do projeto (pelo menos dois cenários, exceto aqueles já apresentados em sala pelos professores: por exemplo, filtro de spam)\n",
    "* SUGERIU e EXPLICOU melhorias reais com indicações concretas de como implementar (indicar como fazer e indicar material de pesquisa)\n",
    "* FEZ o item Qualidade do Classificador a partir de novas separações das Notícias entre Treinamento e Teste descrito no enunciado do projeto (OBRIGATÓRIO para conceitos A ou A+)"
   ]
  },
  {
   "cell_type": "markdown",
   "metadata": {},
   "source": [
    "___\n",
    "## Referências"
   ]
  },
  {
   "cell_type": "markdown",
   "metadata": {},
   "source": [
    "[Naive Bayes and Text Classification](https://arxiv.org/pdf/1410.5329.pdf)  **Funcionamento**\n",
    "\n",
    "[A practical explanation of a Naive Bayes Classifier](https://monkeylearn.com/blog/practical-explanation-naive-bayes-classifier/) **Funcionamento**\n",
    "\n",
    "[How to Improve Naive Bayes Classification Performance?](https://www.baeldung.com/cs/naive-bayes-classification-performance#introduction) **Melhorias**\n",
    "\n",
    "[Stemming vs Lemmatization](https://www.baeldung.com/cs/stemming-vs-lemmatization) **Melhorias**\n",
    "\n",
    "[All about Naive Bayes](https://towardsdatascience.com/all-about-naive-bayes-8e13cef044cf) **Outros usos**\n",
    "\n",
    "[Naive Bayes: Como Funciona esse Algoritimo de Classificação](https://blog.somostera.com/data-science/naive-bayes#:~:text=Há%20usos%20de%20Naive%20Bayes,como%20filtragem%20colaborativa%20e%20outros) **Outros usos**\n",
    "\n",
    "\n",
    "\n"
   ]
  }
 ],
 "metadata": {
  "kernelspec": {
   "display_name": "Python 3 (ipykernel)",
   "language": "python",
   "name": "python3"
  },
  "language_info": {
   "codemirror_mode": {
    "name": "ipython",
    "version": 3
   },
   "file_extension": ".py",
   "mimetype": "text/x-python",
   "name": "python",
   "nbconvert_exporter": "python",
   "pygments_lexer": "ipython3",
   "version": "3.9.7"
  },
  "vscode": {
   "interpreter": {
    "hash": "eb7af8c955b36ac4d04fa9969eb33b8c629734543e89e2f9358555e6c3f18d8e"
   }
  }
 },
 "nbformat": 4,
 "nbformat_minor": 4
}
