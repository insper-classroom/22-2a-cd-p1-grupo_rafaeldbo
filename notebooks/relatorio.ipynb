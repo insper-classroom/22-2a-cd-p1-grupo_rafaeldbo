{
 "cells": [
  {
   "cell_type": "markdown",
   "metadata": {},
   "source": [
    "# Projeto 1 - Ciência dos Dados"
   ]
  },
  {
   "cell_type": "markdown",
   "metadata": {},
   "source": [
    "Nome: Alex Souza Pacchioni\n",
    "\n",
    "Nome: Rafael Dourado Bastos de Oliveira"
   ]
  },
  {
   "cell_type": "markdown",
   "metadata": {},
   "source": [
    "Atenção: Serão permitidos grupos de três pessoas, mas com uma rubrica mais exigente. Grupos deste tamanho precisarão fazer um questionário de avaliação de trabalho em equipe"
   ]
  },
  {
   "cell_type": "markdown",
   "metadata": {},
   "source": [
    "___\n",
    "Carregando algumas bibliotecas:"
   ]
  },
  {
   "cell_type": "code",
   "execution_count": 2,
   "metadata": {},
   "outputs": [
    {
     "name": "stderr",
     "output_type": "stream",
     "text": [
      "[nltk_data] Downloading package stopwords to C:\\Users\\Rafael\n",
      "[nltk_data]     Dourado\\AppData\\Roaming\\nltk_data...\n",
      "[nltk_data]   Package stopwords is already up-to-date!\n"
     ]
    },
    {
     "data": {
      "text/plain": [
       "True"
      ]
     },
     "execution_count": 2,
     "metadata": {},
     "output_type": "execute_result"
    }
   ],
   "source": [
    "%matplotlib inline\n",
    "import pandas as pd\n",
    "import numpy as np\n",
    "import os\n",
    "\n",
    "import matplotlib.pyplot as plt\n",
    "import seaborn as sn\n",
    "from IPython.display import display\n",
    "\n",
    "import nltk\n",
    "nltk.download('stopwords')"
   ]
  },
  {
   "cell_type": "code",
   "execution_count": 3,
   "metadata": {
    "scrolled": false
   },
   "outputs": [
    {
     "name": "stdout",
     "output_type": "stream",
     "text": [
      "Esperamos trabalhar no diretório\n",
      "c:\\Users\\Rafael Dourado\\Desktop\\Programação\\Insper\\cdados\\22-2a-cd-p1-grupo_rafaeldbo\\notebooks\n"
     ]
    }
   ],
   "source": [
    "print('Esperamos trabalhar no diretório')\n",
    "print(os.getcwd())"
   ]
  },
  {
   "cell_type": "markdown",
   "metadata": {},
   "source": [
    "Carregando a base de dados com as notícias classificadas manualmente:"
   ]
  },
  {
   "cell_type": "code",
   "execution_count": 4,
   "metadata": {},
   "outputs": [],
   "source": [
    "path = '../data/'\n",
    "filename = 'dados.xlsx'"
   ]
  },
  {
   "cell_type": "code",
   "execution_count": 5,
   "metadata": {},
   "outputs": [],
   "source": [
    "train = pd.read_excel(path+filename, sheet_name = 'Treinamento')\n",
    "test = pd.read_excel(path+filename, sheet_name = 'Teste')"
   ]
  },
  {
   "cell_type": "markdown",
   "metadata": {},
   "source": [
    "___\n",
    "## Classificador automático\n"
   ]
  },
  {
   "cell_type": "markdown",
   "metadata": {},
   "source": [
    "Faça aqui uma descrição do seu assunto e o que considerou como relevante ou não relevante na classificação das notícias (Target).\n",
    "\n",
    "ESCREVA AQUI..."
   ]
  },
  {
   "cell_type": "markdown",
   "metadata": {},
   "source": [
    "___\n",
    "### Montando um Classificador Naive-Bayes\n",
    "\n",
    "Considerando apenas as mensagens da planilha Treinamento, ensine  seu classificador."
   ]
  },
  {
   "cell_type": "code",
   "execution_count": 6,
   "metadata": {},
   "outputs": [],
   "source": [
    "#Limpador\n",
    "stop_words = nltk.corpus.stopwords.words('portuguese')\n",
    "special_characters= ',.@!#$%¨&*()–_-“”:;+‘’={}[]]?/\\|…\"\"><'+\"''\"\n",
    "\n",
    "def cleanup (text):\n",
    "    text = text.strip().lower()\n",
    "    for word in special_characters:\n",
    "        text = text.replace(word, \" \")\n",
    "\n",
    "    text = text.strip().split()\n",
    "    for word in text:\n",
    "        if (word in stop_words) or (word.isnumeric()) or (len(word) <= 1):\n",
    "            text.remove(word)\n",
    "\n",
    "    return text\n",
    "\n",
    "train[\"Texto\"] = train[\"Descrição\"].apply(cleanup)"
   ]
  },
  {
   "cell_type": "code",
   "execution_count": 7,
   "metadata": {},
   "outputs": [],
   "source": [
    "# Coletando todas as palavras\n",
    "all_words = []\n",
    "for words_list in train['Texto']:\n",
    "    all_words += words_list\n",
    "all_words = pd.Series(all_words)\n",
    "portuguese = list(set(all_words))"
   ]
  },
  {
   "cell_type": "code",
   "execution_count": 8,
   "metadata": {},
   "outputs": [],
   "source": [
    "# Filtrando a base de treino para cada target\n",
    "train_irrelevant = train.loc[train[\"Target\"] == 0, :]\n",
    "train_bad = train.loc[train[\"Target\"] == 1, :]\n",
    "train_neutral = train.loc[train[\"Target\"] == 2, :]\n",
    "train_good = train.loc[train[\"Target\"] == 3, :]\n",
    "\n",
    "# Criando um series para cada target\n",
    "series_irrelevant = pd.Series(train_irrelevant[\"Texto\"].sum(axis= 0))\n",
    "series_bad = pd.Series(train_bad[\"Texto\"].sum(axis= 0))\n",
    "series_neutral = pd.Series(train_neutral[\"Texto\"].sum(axis= 0))\n",
    "series_good = pd.Series(train_good[\"Texto\"].sum(axis= 0))\n",
    "\n",
    "# Fazendo a frequencia absoluta\n",
    "table_irrelevant = series_irrelevant.value_counts()\n",
    "table_bad = series_bad.value_counts()\n",
    "table_neutral = series_neutral.value_counts()\n",
    "table_good = series_good.value_counts()\n",
    "\n",
    "# Fazendo a probabilidade de cada target\n",
    "prob_irrelevant = (len(series_irrelevant)/len(all_words))\n",
    "prob_bad = (len(series_bad)/len(all_words))\n",
    "prob_neutral = (len(series_neutral)/len(all_words))\n",
    "prob_good = (len(series_good)/len(all_words))"
   ]
  },
  {
   "cell_type": "code",
   "execution_count": 9,
   "metadata": {},
   "outputs": [],
   "source": [
    "# Suavizador de Laplace\n",
    "def laplace_smoothing(words_list, amount):\n",
    "    laplace_amount = amount + 1\n",
    "    density = len(words_list) + len(portuguese)\n",
    "    laplace = laplace_amount/density\n",
    "    return laplace\n",
    "\n",
    "# Função probabilidade do target \n",
    "def probability_target(table_target, series_target, news):\n",
    "    \n",
    "    list_target= []\n",
    "    for word in news:\n",
    "        if word in table_target.keys():\n",
    "            amount = table_target[word]\n",
    "        else:\n",
    "            amount = 0\n",
    "        list_target.append(laplace_smoothing(series_target, amount))\n",
    "        \n",
    "    probability_target = np.prod(list_target)\n",
    "    return probability_target\n",
    "\n",
    "# Função do Naive Bayes\n",
    "def naive_bayes(news):\n",
    "    prob_0 = probability_target(table_irrelevant, series_irrelevant, news) * prob_irrelevant\n",
    "    prob_1 = probability_target(table_bad, series_bad, news) * prob_bad\n",
    "    prob_2 = probability_target(table_neutral, series_neutral, news) * prob_neutral\n",
    "    prob_3 = probability_target(table_good, series_good, news) * prob_good\n",
    "\n",
    "    list_probs = [prob_0, prob_1, prob_2, prob_3]\n",
    "    target = list_probs.index(max(list_probs))\n",
    "\n",
    "    return target"
   ]
  },
  {
   "cell_type": "code",
   "execution_count": 10,
   "metadata": {},
   "outputs": [],
   "source": [
    "test[\"Texto\"] = test[\"Descrição\"].apply(cleanup)\n",
    "test[\"Classificacao\"] = test[\"Texto\"].apply(naive_bayes)\n",
    "\n",
    "performance_table = pd.crosstab(test[\"Classificacao\"], test[\"Target\"], normalize=True)"
   ]
  },
  {
   "cell_type": "code",
   "execution_count": 11,
   "metadata": {},
   "outputs": [
    {
     "data": {
      "text/plain": [
       "Text(60.0, 0.5, 'Classificação Manual')"
      ]
     },
     "execution_count": 11,
     "metadata": {},
     "output_type": "execute_result"
    },
    {
     "data": {
      "image/png": "[encoded data removed]",
      "text/plain": [
       "<Figure size 648x504 with 2 Axes>"
      ]
     },
     "metadata": {
      "needs_background": "light"
     },
     "output_type": "display_data"
    }
   ],
   "source": [
    "plt.figure(figsize = (9,7))\n",
    "plt.title('Matriz de Confiança\\ninformações em porcentagem\\n',fontdict={'fontsize': 14})\n",
    "sn.heatmap(performance_table, annot=True, annot_kws={\"size\":30},fmt='.1%',cmap=\"BuPu\")\n",
    "plt.xlabel('Classificação Automática')\n",
    "plt.ylabel('Classificação Manual')"
   ]
  },
  {
   "cell_type": "code",
   "execution_count": 12,
   "metadata": {},
   "outputs": [
    {
     "name": "stdout",
     "output_type": "stream",
     "text": [
      "Verdaveiros Positivos: 49.75%\n",
      "Falsos Positivos: 50.24999999999999%\n"
     ]
    }
   ],
   "source": [
    "true_positives = performance_table[0][0]+performance_table[1][1]+performance_table[2][2]+performance_table[3][3]\n",
    "print(f'Verdaveiros Positivos: {round(true_positives, 4)*100}%')\n",
    "print(f'Falsos Positivos: {round(1 - true_positives, 4)*100}%')"
   ]
  },
  {
   "cell_type": "markdown",
   "metadata": {},
   "source": [
    "___\n",
    "### Verificando a performance do Classificador\n",
    "\n",
    "Agora você deve testar o seu classificador com a base de Testes."
   ]
  },
  {
   "cell_type": "code",
   "execution_count": null,
   "metadata": {},
   "outputs": [],
   "source": []
  },
  {
   "cell_type": "code",
   "execution_count": null,
   "metadata": {},
   "outputs": [],
   "source": []
  },
  {
   "cell_type": "code",
   "execution_count": null,
   "metadata": {},
   "outputs": [],
   "source": []
  },
  {
   "cell_type": "markdown",
   "metadata": {},
   "source": [
    "___\n",
    "### Concluindo"
   ]
  },
  {
   "cell_type": "code",
   "execution_count": null,
   "metadata": {},
   "outputs": [],
   "source": []
  },
  {
   "cell_type": "code",
   "execution_count": null,
   "metadata": {},
   "outputs": [],
   "source": []
  },
  {
   "cell_type": "code",
   "execution_count": null,
   "metadata": {},
   "outputs": [],
   "source": []
  },
  {
   "cell_type": "markdown",
   "metadata": {},
   "source": [
    "___\n",
    "### Qualidade do Classificador a partir de novas separações das notícias entre Treinamento e Teste\n",
    "\n",
    "Caso for fazer esse item do Projeto"
   ]
  },
  {
   "cell_type": "code",
   "execution_count": null,
   "metadata": {},
   "outputs": [],
   "source": []
  },
  {
   "cell_type": "code",
   "execution_count": null,
   "metadata": {},
   "outputs": [],
   "source": []
  },
  {
   "cell_type": "code",
   "execution_count": null,
   "metadata": {},
   "outputs": [],
   "source": []
  },
  {
   "cell_type": "markdown",
   "metadata": {},
   "source": [
    "___\n",
    "## Aperfeiçoamento:\n",
    "\n",
    "Trabalhos que conseguirem pelo menos conceito B vão evoluir em conceito dependendo da quantidade de itens avançados:\n",
    "\n",
    "* IMPLEMENTOU outras limpezas e transformações que não afetem a qualidade da informação contida nas notícias. Ex: stemming, lemmatization, stopwords\n",
    "* CONSIDEROU mais de duas caterogias na variável Target e INCREMENTOU a quantidade de notícias, mantendo pelo menos 250 notícias por caterogia (OBRIGATÓRIO PARA TRIOS, sem contar como item avançado)\n",
    "* Para Target com duas categorias: CRIOU pelo menos quatro categorias intermediárias de relevância baseadas na probabilidade: ex.: muito relevante, relevante, neutro, irrelevante, muito irrelevante\n",
    "* EXPLICOU porquê não pode usar o próprio classificador para gerar mais amostras de treinamento\n",
    "* PROPÔS diferentes cenários para Naïve Bayes fora do contexto do projeto (pelo menos dois cenários, exceto aqueles já apresentados em sala pelos professores: por exemplo, filtro de spam)\n",
    "* SUGERIU e EXPLICOU melhorias reais com indicações concretas de como implementar (indicar como fazer e indicar material de pesquisa)\n",
    "* FEZ o item Qualidade do Classificador a partir de novas separações das Notícias entre Treinamento e Teste descrito no enunciado do projeto (OBRIGATÓRIO para conceitos A ou A+)"
   ]
  },
  {
   "cell_type": "markdown",
   "metadata": {},
   "source": [
    "___\n",
    "## Referências"
   ]
  },
  {
   "cell_type": "markdown",
   "metadata": {},
   "source": [
    "[Naive Bayes and Text Classification](https://arxiv.org/pdf/1410.5329.pdf)  **Mais completo**\n",
    "\n",
    "[A practical explanation of a Naive Bayes Classifier](https://monkeylearn.com/blog/practical-explanation-naive-bayes-classifier/) **Mais simples**"
   ]
  },
  {
   "cell_type": "code",
   "execution_count": null,
   "metadata": {},
   "outputs": [],
   "source": []
  }
 ],
 "metadata": {
  "kernelspec": {
   "display_name": "Python 3.9.7 ('base')",
   "language": "python",
   "name": "python3"
  },
  "language_info": {
   "codemirror_mode": {
    "name": "ipython",
    "version": 3
   },
   "file_extension": ".py",
   "mimetype": "text/x-python",
   "name": "python",
   "nbconvert_exporter": "python",
   "pygments_lexer": "ipython3",
   "version": "3.9.7"
  },
  "vscode": {
   "interpreter": {
    "hash": "fcade83cbec70c4570249288f8f1595edd0333f0171fd8564bcd72f7e259e8a3"
   }
  }
 },
 "nbformat": 4,
 "nbformat_minor": 4
}
