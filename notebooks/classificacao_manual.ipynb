{
 "cells": [
  {
   "cell_type": "code",
   "execution_count": 4,
   "metadata": {},
   "outputs": [],
   "source": [
    "%matplotlib inline\n",
    "import pandas as pd\n",
    "import matplotlib.pyplot as plt\n",
    "import numpy as np\n",
    "import os"
   ]
  },
  {
   "cell_type": "code",
   "execution_count": 5,
   "metadata": {},
   "outputs": [],
   "source": [
    "filename = '../data/dados.xlsx'\n",
    "train = pd.read_excel(filename, sheet_name = 'Treinamento')\n",
    "test = pd.read_excel(filename, sheet_name = 'Teste')"
   ]
  },
  {
   "cell_type": "code",
   "execution_count": 6,
   "metadata": {},
   "outputs": [
    {
     "name": "stdout",
     "output_type": "stream",
     "text": [
      "No total, foram classificadas 1400 notícias\n",
      "0: 412 (29.43)\n",
      "1: 310 (22.14)\n",
      "2: 678 (48.43)\n"
     ]
    }
   ],
   "source": [
    "quantidade_train = train.value_counts('Target', sort=False)\n",
    "quantidade_test = test.value_counts('Target',  sort=False)\n",
    "# display(quantidade_train.to_frame())\n",
    "# display(quantidade_test.to_frame())\n",
    "\n",
    "quant_0 = quantidade_test[0]+quantidade_train[0]\n",
    "quant_1 = quantidade_test[1]+quantidade_train[1]\n",
    "quant_2 = quantidade_test[2]+quantidade_train[2]\n",
    "#quant_3 = quantidade_test[3]+quantidade_train[3]\n",
    "\n",
    "total = sum(quantidade_train) + sum(quantidade_test)\n",
    "total_train = sum(quantidade_train)\n",
    "total_test = sum(quantidade_test)\n",
    "\n",
    "print(f'No total, foram classificadas {total} notícias')\n",
    "print(f\"0: {quant_0} ({round(quant_0/total, 4)*100})\")\n",
    "print(f\"1: {quant_1} ({round(quant_1/total, 4)*100})\")\n",
    "print(f\"2: {quant_2} ({round(quant_2/total, 4)*100})\")\n",
    "#print(f\"3: {quant_3} ({round(quant_3/total, 4)*100})\")"
   ]
  },
  {
   "cell_type": "code",
   "execution_count": 7,
   "metadata": {},
   "outputs": [
    {
     "name": "stdout",
     "output_type": "stream",
     "text": [
      "Na planilha de treinamento, foram classificadas 1000 notícias\n",
      "0: 262 (26.200000000000003)\n",
      "1: 248 (24.8)\n",
      "2: 490 (49.0)\n"
     ]
    }
   ],
   "source": [
    "print(f'Na planilha de treinamento, foram classificadas {total_train} notícias')\n",
    "print(f\"0: {quantidade_train[0]} ({round(quantidade_train[0]/total_train, 4)*100})\")\n",
    "print(f\"1: {quantidade_train[1]} ({round(quantidade_train[1]/total_train, 4)*100})\")\n",
    "print(f\"2: {quantidade_train[2]} ({round(quantidade_train[2]/total_train, 4)*100})\")\n",
    "#print(f\"3: {quantidade_train[3]} ({round(quantidade_train[3]/total_train, 4)*100})\")"
   ]
  },
  {
   "cell_type": "code",
   "execution_count": 8,
   "metadata": {},
   "outputs": [
    {
     "name": "stdout",
     "output_type": "stream",
     "text": [
      "Na planilha de teste, foram classificadas 400 notícias\n",
      "0: 150 (37.5)\n",
      "1: 62 (15.5)\n",
      "2: 188 (47.0)\n"
     ]
    }
   ],
   "source": [
    "print(f'Na planilha de teste, foram classificadas {total_test} notícias')\n",
    "print(f\"0: {quantidade_test[0]} ({round(quantidade_test[0]/total_test, 4)*100})\")\n",
    "print(f\"1: {quantidade_test[1]} ({round(quantidade_test[1]/total_test, 4)*100})\")\n",
    "print(f\"2: {quantidade_test[2]} ({round(quantidade_test[2]/total_test, 4)*100})\")\n",
    "#print(f\"3: {quantidade_test[3]} ({round(quantidade_test[3]/total_test, 4)*100})\")"
   ]
  }
 ],
 "metadata": {
  "kernelspec": {
   "display_name": "Python 3.9.7 ('base')",
   "language": "python",
   "name": "python3"
  },
  "language_info": {
   "codemirror_mode": {
    "name": "ipython",
    "version": 3
   },
   "file_extension": ".py",
   "mimetype": "text/x-python",
   "name": "python",
   "nbconvert_exporter": "python",
   "pygments_lexer": "ipython3",
   "version": "3.9.7"
  },
  "orig_nbformat": 4,
  "vscode": {
   "interpreter": {
    "hash": "fcade83cbec70c4570249288f8f1595edd0333f0171fd8564bcd72f7e259e8a3"
   }
  }
 },
 "nbformat": 4,
 "nbformat_minor": 2
}
