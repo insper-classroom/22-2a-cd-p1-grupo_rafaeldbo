{
 "cells": [
  {
   "cell_type": "markdown",
   "metadata": {},
   "source": [
    "# Análise da Classificação Manual\n",
    "\n",
    "Esse arquivo é usado apenas para entender a proporção dos dados classificados manualmente em relação a quantidade de cada target em cada base de dados."
   ]
  },
  {
   "cell_type": "markdown",
   "metadata": {},
   "source": [
    "___\n",
    "Carregando as bibliotecas necessárias:"
   ]
  },
  {
   "cell_type": "code",
   "execution_count": 1,
   "metadata": {},
   "outputs": [],
   "source": [
    "%matplotlib inline\n",
    "import pandas as pd\n",
    "import os"
   ]
  },
  {
   "cell_type": "markdown",
   "metadata": {},
   "source": [
    "Carregando a base de dados com as notícias classificadas manualmente:"
   ]
  },
  {
   "cell_type": "code",
   "execution_count": 2,
   "metadata": {},
   "outputs": [],
   "source": [
    "filename = '../data/dados.xlsx'\n",
    "train = pd.read_excel(filename, sheet_name = 'Treinamento')\n",
    "test = pd.read_excel(filename, sheet_name = 'Teste')"
   ]
  },
  {
   "cell_type": "markdown",
   "metadata": {},
   "source": [
    "____\n",
    "\n",
    "### Análise"
   ]
  },
  {
   "cell_type": "code",
   "execution_count": 3,
   "metadata": {},
   "outputs": [],
   "source": [
    "quantidade_train = train.value_counts('Target', sort=False)\n",
    "quantidade_test = test.value_counts('Target',  sort=False)\n",
    "\n",
    "quant_0 = quantidade_test[0]+quantidade_train[0]\n",
    "quant_1 = quantidade_test[1]+quantidade_train[1]\n",
    "\n",
    "total = sum(quantidade_train) + sum(quantidade_test)\n",
    "total_train = sum(quantidade_train)\n",
    "total_test = sum(quantidade_test)"
   ]
  },
  {
   "cell_type": "code",
   "execution_count": 4,
   "metadata": {},
   "outputs": [
    {
     "name": "stdout",
     "output_type": "stream",
     "text": [
      "No total, foram classificadas 1400 notícias\n",
      "0: 722 (51.57%)\n",
      "1: 678 (48.43%)\n"
     ]
    }
   ],
   "source": [
    "print(f'No total, foram classificadas {total} notícias')\n",
    "print(f\"0: {quant_0} ({(quant_0/total)*100:.2f}%)\")\n",
    "print(f\"1: {quant_1} ({(quant_1/total)*100:.2f}%)\")"
   ]
  },
  {
   "cell_type": "code",
   "execution_count": 5,
   "metadata": {},
   "outputs": [
    {
     "name": "stdout",
     "output_type": "stream",
     "text": [
      "Na planilha de treinamento, foram classificadas 1000 notícias\n",
      "0: 512 (51.20%)\n",
      "1: 488 (48.80%)\n"
     ]
    }
   ],
   "source": [
    "print(f'Na planilha de treinamento, foram classificadas {total_train} notícias')\n",
    "print(f\"0: {quantidade_train[0]} ({(quantidade_train[0]/total_train)*100:.2f}%)\")\n",
    "print(f\"1: {quantidade_train[1]} ({(quantidade_train[1]/total_train)*100:.2f}%)\")"
   ]
  },
  {
   "cell_type": "code",
   "execution_count": 6,
   "metadata": {},
   "outputs": [
    {
     "name": "stdout",
     "output_type": "stream",
     "text": [
      "Na planilha de teste, foram classificadas 400 notícias\n",
      "0: 210 (52.50%)\n",
      "1: 190 (47.50%)\n"
     ]
    }
   ],
   "source": [
    "print(f'Na planilha de teste, foram classificadas {total_test} notícias')\n",
    "print(f\"0: {quantidade_test[0]} ({(quantidade_test[0]/total_test)*100:.2f}%)\")\n",
    "print(f\"1: {quantidade_test[1]} ({(quantidade_test[1]/total_test)*100:.2f}%)\")"
   ]
  },
  {
   "cell_type": "code",
   "execution_count": 7,
   "metadata": {},
   "outputs": [
    {
     "name": "stdout",
     "output_type": "stream",
     "text": [
      "Proporção entre Treinamento e Teste\n",
      "71.43% notícias de treino e 28.57% notícias de teste\n"
     ]
    }
   ],
   "source": [
    "print(f'Proporção entre Treinamento e Teste')\n",
    "print(f\"{(total_train/total)*100:.2f}% notícias de treino e {(total_test/total)*100:.2f}% notícias de teste\")"
   ]
  }
 ],
 "metadata": {
  "kernelspec": {
   "display_name": "Python 3.9.7 ('base')",
   "language": "python",
   "name": "python3"
  },
  "language_info": {
   "codemirror_mode": {
    "name": "ipython",
    "version": 3
   },
   "file_extension": ".py",
   "mimetype": "text/x-python",
   "name": "python",
   "nbconvert_exporter": "python",
   "pygments_lexer": "ipython3",
   "version": "3.9.7"
  },
  "vscode": {
   "interpreter": {
    "hash": "eb7af8c955b36ac4d04fa9969eb33b8c629734543e89e2f9358555e6c3f18d8e"
   }
  }
 },
 "nbformat": 4,
 "nbformat_minor": 2
}
